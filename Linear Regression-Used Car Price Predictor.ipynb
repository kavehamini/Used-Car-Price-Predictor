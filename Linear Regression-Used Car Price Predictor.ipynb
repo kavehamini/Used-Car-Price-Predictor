{
 "cells": [
  {
   "cell_type": "markdown",
   "metadata": {},
   "source": [
    "# Linear Regression-Used Car Price Predictor"
   ]
  },
  {
   "cell_type": "code",
   "execution_count": 84,
   "metadata": {},
   "outputs": [],
   "source": [
    "import warnings\n",
    "warnings.filterwarnings('ignore')"
   ]
  },
  {
   "cell_type": "code",
   "execution_count": 85,
   "metadata": {},
   "outputs": [],
   "source": [
    "#Importing required modules\n",
    "import pandas as pd\n",
    "import numpy as np\n",
    "from sqlalchemy import create_engine,inspect, func\n",
    "from config import password\n",
    "\n",
    "import seaborn as sns\n",
    "import scipy.stats as ss\n",
    "from collections import Counter\n",
    "import math \n",
    "from scipy import stats\n",
    "import datetime\n",
    "import matplotlib\n",
    "import pickle\n",
    "import matplotlib.pyplot as plt\n",
    "from sklearn import preprocessing\n",
    "from sklearn.linear_model import Lasso\n",
    "from sklearn.linear_model import Ridge\n",
    "from sklearn.model_selection import train_test_split\n",
    "from sklearn.preprocessing import StandardScaler, Normalizer\n",
    "from spark_sklearn import GridSearchCV\n",
    "from spark_sklearn.util import createLocalSparkSession\n",
    "from sklearn.model_selection import cross_val_score\n",
    "from sklearn.metrics import mean_squared_error\n",
    "\n",
    "\n",
    "import statsmodels.formula.api as smf\n",
    "import statsmodels.stats.api as sms\n",
    "from statsmodels.compat import lzip\n",
    "\n",
    "from statsmodels.graphics.tsaplots import plot_acf"
   ]
  },
  {
   "cell_type": "code",
   "execution_count": 86,
   "metadata": {},
   "outputs": [],
   "source": [
    "#Connecting to the sql database\n",
    "connection_string = \"postgres:\"+password+\"@localhost:5432/hondadb\"\n",
    "engine = create_engine(f'postgresql://{connection_string}')"
   ]
  },
  {
   "cell_type": "code",
   "execution_count": 87,
   "metadata": {},
   "outputs": [],
   "source": [
    "df_cleaned = pd.read_sql(\"SELECT * FROM cleanedcardb2\",\n",
    "                     con=engine)"
   ]
  },
  {
   "cell_type": "code",
   "execution_count": 88,
   "metadata": {},
   "outputs": [],
   "source": [
    "df_cleaned = df_cleaned[['Price', 'Milage', 'Year', 'Model', 'Car Type']]"
   ]
  },
  {
   "cell_type": "code",
   "execution_count": 90,
   "metadata": {},
   "outputs": [
    {
     "data": {
      "text/html": [
       "<div>\n",
       "<style scoped>\n",
       "    .dataframe tbody tr th:only-of-type {\n",
       "        vertical-align: middle;\n",
       "    }\n",
       "\n",
       "    .dataframe tbody tr th {\n",
       "        vertical-align: top;\n",
       "    }\n",
       "\n",
       "    .dataframe thead th {\n",
       "        text-align: right;\n",
       "    }\n",
       "</style>\n",
       "<table border=\"1\" class=\"dataframe\">\n",
       "  <thead>\n",
       "    <tr style=\"text-align: right;\">\n",
       "      <th></th>\n",
       "      <th>Price</th>\n",
       "      <th>Milage</th>\n",
       "      <th>Year</th>\n",
       "      <th>Model</th>\n",
       "      <th>Car Type</th>\n",
       "    </tr>\n",
       "  </thead>\n",
       "  <tbody>\n",
       "    <tr>\n",
       "      <th>count</th>\n",
       "      <td>23678.000000</td>\n",
       "      <td>23678.000000</td>\n",
       "      <td>23678.000000</td>\n",
       "      <td>23678.000000</td>\n",
       "      <td>23678.000000</td>\n",
       "    </tr>\n",
       "    <tr>\n",
       "      <th>mean</th>\n",
       "      <td>10.125652</td>\n",
       "      <td>83962.430400</td>\n",
       "      <td>2016.588563</td>\n",
       "      <td>280.149210</td>\n",
       "      <td>22.252471</td>\n",
       "    </tr>\n",
       "    <tr>\n",
       "      <th>std</th>\n",
       "      <td>0.600543</td>\n",
       "      <td>63802.640491</td>\n",
       "      <td>3.074993</td>\n",
       "      <td>150.879198</td>\n",
       "      <td>13.357032</td>\n",
       "    </tr>\n",
       "    <tr>\n",
       "      <th>min</th>\n",
       "      <td>7.309881</td>\n",
       "      <td>10.000000</td>\n",
       "      <td>1995.000000</td>\n",
       "      <td>0.000000</td>\n",
       "      <td>0.000000</td>\n",
       "    </tr>\n",
       "    <tr>\n",
       "      <th>25%</th>\n",
       "      <td>9.728315</td>\n",
       "      <td>37345.000000</td>\n",
       "      <td>2015.000000</td>\n",
       "      <td>162.000000</td>\n",
       "      <td>13.000000</td>\n",
       "    </tr>\n",
       "    <tr>\n",
       "      <th>50%</th>\n",
       "      <td>10.165275</td>\n",
       "      <td>69000.000000</td>\n",
       "      <td>2017.000000</td>\n",
       "      <td>279.000000</td>\n",
       "      <td>18.000000</td>\n",
       "    </tr>\n",
       "    <tr>\n",
       "      <th>75%</th>\n",
       "      <td>10.570977</td>\n",
       "      <td>116000.000000</td>\n",
       "      <td>2019.000000</td>\n",
       "      <td>415.000000</td>\n",
       "      <td>34.000000</td>\n",
       "    </tr>\n",
       "    <tr>\n",
       "      <th>max</th>\n",
       "      <td>12.042377</td>\n",
       "      <td>500000.000000</td>\n",
       "      <td>2021.000000</td>\n",
       "      <td>547.000000</td>\n",
       "      <td>47.000000</td>\n",
       "    </tr>\n",
       "  </tbody>\n",
       "</table>\n",
       "</div>"
      ],
      "text/plain": [
       "              Price         Milage          Year         Model      Car Type\n",
       "count  23678.000000   23678.000000  23678.000000  23678.000000  23678.000000\n",
       "mean      10.125652   83962.430400   2016.588563    280.149210     22.252471\n",
       "std        0.600543   63802.640491      3.074993    150.879198     13.357032\n",
       "min        7.309881      10.000000   1995.000000      0.000000      0.000000\n",
       "25%        9.728315   37345.000000   2015.000000    162.000000     13.000000\n",
       "50%       10.165275   69000.000000   2017.000000    279.000000     18.000000\n",
       "75%       10.570977  116000.000000   2019.000000    415.000000     34.000000\n",
       "max       12.042377  500000.000000   2021.000000    547.000000     47.000000"
      ]
     },
     "execution_count": 90,
     "metadata": {},
     "output_type": "execute_result"
    }
   ],
   "source": [
    "df_cleaned.describe()"
   ]
  },
  {
   "cell_type": "markdown",
   "metadata": {},
   "source": [
    "#### Label Encoding"
   ]
  },
  {
   "cell_type": "code",
   "execution_count": 91,
   "metadata": {},
   "outputs": [],
   "source": [
    "features = ['Car Type', 'Model']\n",
    "les = {}\n",
    "\n",
    "for f in features:\n",
    "  les[f] = preprocessing.LabelEncoder()\n",
    "  les[f] = les[f].fit(df_cleaned[f])\n",
    "  df_cleaned[f] = les[f].transform(df_cleaned[f])"
   ]
  },
  {
   "cell_type": "markdown",
   "metadata": {},
   "source": [
    "#### Splitting Train and Test"
   ]
  },
  {
   "cell_type": "code",
   "execution_count": 92,
   "metadata": {},
   "outputs": [],
   "source": [
    "# Splitting the dataset into train and test sets\n",
    "train_set, test_set = train_test_split(df_cleaned, test_size = 0.3, random_state = 100)\n",
    "\n",
    "# Separating target labels from the rest\n",
    "df_train = train_set.drop(\"Price\", axis=1) #train without target\n",
    "df_price_train = train_set[\"Price\"].copy() #target\n",
    "\n",
    "df_test  = test_set.drop(\"Price\", axis=1)\n",
    "df_price_test = test_set[\"Price\"].copy()"
   ]
  },
  {
   "cell_type": "markdown",
   "metadata": {},
   "source": [
    "### Training A Linear Regression Model"
   ]
  },
  {
   "cell_type": "markdown",
   "metadata": {},
   "source": [
    "#### Best Score Function"
   ]
  },
  {
   "cell_type": "code",
   "execution_count": 93,
   "metadata": {},
   "outputs": [],
   "source": [
    "# This function returns the best score achieved by the model over all the cv splits\n",
    "def best_score(forest, cv):\n",
    "  best_score = 0\n",
    "  for i in range(0, cv):\n",
    "    items = list(map(lambda x: abs(x), forest.cv_results_['split'+str(i)+'_test_score']))\n",
    "    arr = np.append(best_score, items)\n",
    "    best_score = max(arr)\n",
    "  \n",
    "  return best_score"
   ]
  },
  {
   "cell_type": "markdown",
   "metadata": {},
   "source": [
    "#### Best Param Function"
   ]
  },
  {
   "cell_type": "code",
   "execution_count": 94,
   "metadata": {},
   "outputs": [],
   "source": [
    "# This functions returns the best combination of parameters, which allows to\n",
    "# get the best score\n",
    "def best_params(forest):\n",
    "  return forest.cv_results_['params'][forest.cv_results_['rank_test_score'][0]-1]"
   ]
  },
  {
   "cell_type": "markdown",
   "metadata": {},
   "source": [
    "#### Performance Metric Function"
   ]
  },
  {
   "cell_type": "code",
   "execution_count": 95,
   "metadata": {},
   "outputs": [],
   "source": [
    "from sklearn.metrics import r2_score\n",
    "\n",
    "def performance_metric(y_true, y_predict):\n",
    "    \"\"\" Calculates and returns the performance score between \n",
    "        true (y_true) and predicted (y_predict) values based on the metric chosen. \"\"\"\n",
    "    \n",
    "    score = r2_score(y_true, y_predict)\n",
    "    \n",
    "    # Return the score\n",
    "    return score"
   ]
  },
  {
   "cell_type": "markdown",
   "metadata": {},
   "source": [
    "### LINEAR REGRESSION"
   ]
  },
  {
   "cell_type": "code",
   "execution_count": 96,
   "metadata": {},
   "outputs": [],
   "source": [
    "from sklearn.preprocessing import OneHotEncoder\n",
    "from sklearn.pipeline import Pipeline\n",
    "from sklearn.pipeline import FeatureUnion\n",
    "from sklearn.preprocessing import StandardScaler\n",
    "from sklearn.base import BaseEstimator, TransformerMixin\n",
    "\n",
    "import os\n",
    "\n",
    "# Create a class to select numerical or categorical columns \n",
    "# since Scikit-Learn doesn't handle DataFrames yet\n",
    "\n",
    "class DFSelector(BaseEstimator, TransformerMixin):\n",
    "    def __init__(self, feature_names):\n",
    "        self.feature_names = feature_names\n",
    "    def fit(self, X, y=None):\n",
    "        return self\n",
    "    def transform(self, X):\n",
    "        return X[self.feature_names].values"
   ]
  },
  {
   "cell_type": "code",
   "execution_count": 97,
   "metadata": {},
   "outputs": [],
   "source": [
    "# Setting categorical and numerical attributes\n",
    "df_features = [\"Car Type\", \"Model\"]\n",
    "num_features = list(df_train.drop(df_features, axis=1))\n",
    "\n",
    "# Building the Pipelines for categorical and numerical dataframes\n",
    "numerical_pipeline = Pipeline([\n",
    "    (\"selector\", DFSelector(num_features)),\n",
    "    (\"std_scaler\", StandardScaler())\n",
    "])\n",
    "\n",
    "categorical_pipeline = Pipeline([\n",
    "    (\"selector\", DFSelector(df_features)),\n",
    "    (\"encoder\", OneHotEncoder(sparse=True))\n",
    "])\n",
    "\n",
    "# full_pipeline\n",
    "full_pipeline = FeatureUnion(transformer_list =[\n",
    "    (\"num_pipeline\", numerical_pipeline),\n",
    "    (\"cat_pipeline\", categorical_pipeline)\n",
    "])"
   ]
  },
  {
   "cell_type": "code",
   "execution_count": 98,
   "metadata": {},
   "outputs": [],
   "source": [
    "# Apply the full pipeline\n",
    "ohe_df_train = full_pipeline.fit_transform(df_train) # train set"
   ]
  },
  {
   "cell_type": "code",
   "execution_count": 99,
   "metadata": {},
   "outputs": [
    {
     "name": "stdout",
     "output_type": "stream",
     "text": [
      "Fitting 3 folds for each of 4 candidates, totalling 12 fits\n"
     ]
    }
   ],
   "source": [
    "from sklearn.linear_model import LinearRegression\n",
    "\n",
    "sc = createLocalSparkSession().sparkContext\n",
    "\n",
    "model = LinearRegression()\n",
    "parameters = {'fit_intercept':[False], 'normalize':[True,False], 'copy_X':[True, False]}\n",
    "\n",
    "# Spark parallelized GridSearchCV for hyperparameter tuning\n",
    "gs = GridSearchCV(sc, estimator=model, param_grid=parameters, cv=3, n_jobs=-1, verbose=1, return_train_score=True)\n",
    "lin_reg = gs.fit(ohe_df_train, df_price_train)"
   ]
  },
  {
   "cell_type": "code",
   "execution_count": 100,
   "metadata": {},
   "outputs": [
    {
     "name": "stdout",
     "output_type": "stream",
     "text": [
      "Wall time: 431 ms\n"
     ]
    },
    {
     "data": {
      "text/plain": [
       "LinearRegression(copy_X=True, fit_intercept=False, n_jobs=1, normalize=True)"
      ]
     },
     "execution_count": 100,
     "metadata": {},
     "output_type": "execute_result"
    }
   ],
   "source": [
    "# Best CV parameters\n",
    "bp = best_params(lin_reg)\n",
    "best_params(lin_reg)\n",
    "\n",
    "lin_reg_model = LinearRegression(\n",
    "                              fit_intercept=bp[\"fit_intercept\"],\n",
    "                              normalize=bp[\"normalize\"],\n",
    "                              copy_X=bp[\"copy_X\"])\n",
    "%time lin_reg_model.fit(ohe_df_train, df_price_train)"
   ]
  },
  {
   "cell_type": "code",
   "execution_count": 101,
   "metadata": {},
   "outputs": [
    {
     "name": "stdout",
     "output_type": "stream",
     "text": [
      "Best Linear Regression parameters:\n",
      "{'copy_X': True, 'fit_intercept': False, 'normalize': True}\n",
      "\n",
      "Linear Regressor score without CV on train set: 0.928\n",
      "Linear Regression score without CV on test set: 0.908\n",
      "Linear Regression Best score with CV=3: 0.881\n"
     ]
    }
   ],
   "source": [
    "# LinearRegression score for price prediction\n",
    "ohe_df_test = full_pipeline.transform(df_test)\n",
    "\n",
    "print(\"Best Linear Regression parameters:\")\n",
    "print(bp)\n",
    "print(\"\\nLinear Regressor score without CV on train set: %.3f\" % lin_reg_model.score(ohe_df_train, df_price_train)) #score on train set\n",
    "print(\"Linear Regression score without CV on test set: %.3f\" % lin_reg_model.score(ohe_df_test, df_price_test)) # score on test set\n",
    "print(\"Linear Regression Best score with CV=3: %.3f\" % best_score(lin_reg, 3)) # -> best score on test set is high"
   ]
  },
  {
   "cell_type": "code",
   "execution_count": 102,
   "metadata": {},
   "outputs": [
    {
     "data": {
      "text/plain": [
       "5263.817514976576"
      ]
     },
     "execution_count": 102,
     "metadata": {},
     "output_type": "execute_result"
    }
   ],
   "source": [
    "# Prediction on whole training set\n",
    "from sklearn.metrics import mean_squared_error\n",
    "\n",
    "price_predictions_train = lin_reg_model.predict(ohe_df_train) #using the whole training set for making prediction with the final model given by the best CV parameters\n",
    "\n",
    "# Reversing np.log operation\n",
    "price_predictions_train_normal = np.exp(price_predictions_train)\n",
    "df_price_train_normal = np.exp(df_price_train)\n",
    "\n",
    "# MSE between target values (i.e known) and predicted values\n",
    "lin_mse = mean_squared_error(df_price_train_normal, price_predictions_train_normal)\n",
    "lin_rmse = np.sqrt(lin_mse)\n",
    "lin_rmse"
   ]
  },
  {
   "cell_type": "code",
   "execution_count": 103,
   "metadata": {},
   "outputs": [
    {
     "name": "stdout",
     "output_type": "stream",
     "text": [
      "[29892.65290567 29385.52047624  6858.20386422 12044.92798074\n",
      " 17092.83912648 13690.02849873 66211.67878781 12840.0988654\n",
      " 49780.70250562 40549.24704439 18106.72020446 36521.41563429\n",
      " 33972.54426128 21768.44312622 14966.22772173 38278.24861198\n",
      " 26054.37331602 27245.01229976 32548.35944999 20165.13637321]\n",
      "\n",
      "\n",
      "[29995.000000000175, 24990.000000000044, 6899.999999999999, 12999.000000000007, 22887.999999998923, 13949.999999999976, 59876.9999999996, 12994.999999999993, 57995.00000000138, 39887.99999999844, 23987.99999999998, 49989.999999999185, 27777.00000000121, 17387.999999999945, 16991.00000000002, 29990.000000001335, 27498.999999999265, 23989.999999999054, 29800.00000000015, 19995.00000000002]\n"
     ]
    }
   ],
   "source": [
    "print(price_predictions_train_normal[1000:1020])\n",
    "print('\\n')\n",
    "print(list(df_price_train_normal[1000:1020]))"
   ]
  },
  {
   "cell_type": "code",
   "execution_count": 104,
   "metadata": {},
   "outputs": [
    {
     "data": {
      "text/plain": [
       "5892.236379531648"
      ]
     },
     "execution_count": 104,
     "metadata": {},
     "output_type": "execute_result"
    }
   ],
   "source": [
    "# Prediction on test set\n",
    "price_predictions_test = lin_reg_model.predict(ohe_df_test)\n",
    "\n",
    "# Reversing np.log operation\n",
    "price_predictions_test_normal = np.exp(price_predictions_test)\n",
    "df_price_test_normal = np.exp(df_price_test)\n",
    "\n",
    "final_mse = mean_squared_error(df_price_test_normal, price_predictions_test_normal)\n",
    "final_rmse = np.sqrt(final_mse)\n",
    "\n",
    "final_rmse"
   ]
  },
  {
   "cell_type": "code",
   "execution_count": 105,
   "metadata": {},
   "outputs": [
    {
     "name": "stdout",
     "output_type": "stream",
     "text": [
      "[27747.11722752 16507.73684393 25861.7923175  46604.58578674\n",
      " 22360.67748252 69992.8468407  15557.94001877 17394.39732321\n",
      " 45801.35491909 34989.67170126]\n",
      "\n",
      "\n",
      "[29860.999999998967, 14988.00000000002, 25468.999999999553, 55043.00000000053, 21334.999999999996, 79101.00000000287, 17500.000000000076, 16899.99999999993, 54125.000000000444, 26987.999999999578]\n"
     ]
    }
   ],
   "source": [
    "print(price_predictions_test_normal[110:120]) #predictions on test set\n",
    "print('\\n')\n",
    "print(list(df_price_test_normal[110:120])) #known values in test set"
   ]
  },
  {
   "cell_type": "code",
   "execution_count": 106,
   "metadata": {},
   "outputs": [
    {
     "data": {
      "text/plain": [
       "0.8816257612220912"
      ]
     },
     "execution_count": 106,
     "metadata": {},
     "output_type": "execute_result"
    }
   ],
   "source": [
    "from sklearn.metrics import r2_score\n",
    "r2_score(df_price_test_normal, price_predictions_test_normal, multioutput='variance_weighted')"
   ]
  },
  {
   "cell_type": "code",
   "execution_count": 115,
   "metadata": {},
   "outputs": [
    {
     "data": {
      "image/png": "[encoded data removed]",
      "text/plain": [
       "<Figure size 432x288 with 1 Axes>"
      ]
     },
     "metadata": {
      "needs_background": "light"
     },
     "output_type": "display_data"
    }
   ],
   "source": [
    "# Plot predictions\n",
    "plt.scatter(price_predictions_train_normal, np.exp(df_price_train), c = \"yellow\", marker = \"s\", label = \"Training data\")\n",
    "plt.scatter(price_predictions_test_normal, np.exp(df_price_test), c = \"lightgreen\", marker = \"*\", label = \"Validation data\")\n",
    "plt.title(\"Linear regression\")\n",
    "plt.xlabel(\"Predicted values\")\n",
    "plt.ylabel(\"Real values\")\n",
    "plt.legend(loc = \"upper left\")\n",
    "plt.plot([0, 220000], [0, 200000], c = \"black\")\n",
    "plt.show()"
   ]
  },
  {
   "cell_type": "code",
   "execution_count": 111,
   "metadata": {},
   "outputs": [],
   "source": [
    "# Saving model for type prediction\n",
    "pickle.dump(lin_reg_model, open(\"lin_reg_model_final.pkl\", \"wb\"))"
   ]
  },
  {
   "cell_type": "code",
   "execution_count": 112,
   "metadata": {},
   "outputs": [],
   "source": [
    "# Loading the model for type prediction\n",
    "lin_reg_model = pickle.load(open(\"lin_reg_model_final.pkl\", 'rb'))"
   ]
  },
  {
   "cell_type": "markdown",
   "metadata": {},
   "source": [
    "#### Cross Validation"
   ]
  },
  {
   "cell_type": "code",
   "execution_count": 113,
   "metadata": {},
   "outputs": [],
   "source": [
    "def display_scores(scores):\n",
    "    print(\"Scores:\", scores)\n",
    "    print(\"Mean:\", scores.mean())\n",
    "    print(\"Standard deviation:\", scores.std())"
   ]
  },
  {
   "cell_type": "code",
   "execution_count": 119,
   "metadata": {},
   "outputs": [
    {
     "name": "stdout",
     "output_type": "stream",
     "text": [
      "Scores: [6333.88762365 6020.94781964 6824.36122993]\n",
      "Mean: 6393.065557737936\n",
      "Standard deviation: 330.6506695086699\n"
     ]
    }
   ],
   "source": [
    "# Cross val score on training set, although we already used GridSearchCV \n",
    "\n",
    "train_scores = cross_val_score(lin_reg_model, ohe_df_train, np.exp(df_price_train),\n",
    "                         scoring=\"neg_mean_squared_error\", cv=3)\n",
    "tree_rmse_scores = np.sqrt(-train_scores)\n",
    "\n",
    "display_scores(tree_rmse_scores)"
   ]
  },
  {
   "cell_type": "code",
   "execution_count": 120,
   "metadata": {},
   "outputs": [
    {
     "name": "stdout",
     "output_type": "stream",
     "text": [
      "Scores: [0.86986667 0.87631324 0.84305887]\n",
      "Mean: 0.8630795948588919\n",
      "Standard deviation: 0.014399342946758818\n"
     ]
    }
   ],
   "source": [
    "train_scores = cross_val_score(lin_reg_model, ohe_df_train, np.exp(df_price_train),\n",
    "                          cv=3)\n",
    "\n",
    "display_scores(train_scores)"
   ]
  },
  {
   "cell_type": "code",
   "execution_count": null,
   "metadata": {},
   "outputs": [],
   "source": []
  }
 ],
 "metadata": {
  "kernelspec": {
   "display_name": "Python 3",
   "language": "python",
   "name": "python3"
  },
  "language_info": {
   "codemirror_mode": {
    "name": "ipython",
    "version": 3
   },
   "file_extension": ".py",
   "mimetype": "text/x-python",
   "name": "python",
   "nbconvert_exporter": "python",
   "pygments_lexer": "ipython3",
   "version": "3.7.3"
  }
 },
 "nbformat": 4,
 "nbformat_minor": 2
}
