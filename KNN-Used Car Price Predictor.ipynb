{
 "cells": [
  {
   "cell_type": "markdown",
   "metadata": {},
   "source": [
    "# KNN-Used Car Price Predictor"
   ]
  },
  {
   "cell_type": "code",
   "execution_count": 55,
   "metadata": {},
   "outputs": [],
   "source": [
    "import warnings\n",
    "warnings.filterwarnings('ignore')"
   ]
  },
  {
   "cell_type": "code",
   "execution_count": 57,
   "metadata": {},
   "outputs": [],
   "source": [
    "#Connecting to the sql database\n",
    "connection_string = \"postgres:\"+password+\"@localhost:5432/hondadb\"\n",
    "engine = create_engine(f'postgresql://{connection_string}')"
   ]
  },
  {
   "cell_type": "code",
   "execution_count": 58,
   "metadata": {},
   "outputs": [],
   "source": [
    "df_cleaned = pd.read_sql(\"SELECT * FROM cleanedcardb2\",\n",
    "                     con=engine)"
   ]
  },
  {
   "cell_type": "code",
   "execution_count": 59,
   "metadata": {},
   "outputs": [],
   "source": [
    "#Select only columns with numerical, continuous values and assign to new DataFrame\n",
    "continuous_cols = ['Milage', 'Year', 'Price']\n",
    "\n",
    "df_numeric = df_cleaned[continuous_cols]\n"
   ]
  },
  {
   "cell_type": "markdown",
   "metadata": {},
   "source": [
    "#### Convert columns to float datatype"
   ]
  },
  {
   "cell_type": "code",
   "execution_count": 60,
   "metadata": {},
   "outputs": [
    {
     "data": {
      "text/plain": [
       "Milage    float64\n",
       "Year      float64\n",
       "Price     float64\n",
       "dtype: object"
      ]
     },
     "execution_count": 60,
     "metadata": {},
     "output_type": "execute_result"
    }
   ],
   "source": [
    "#Convert all numeric columns that contained '?' from object to float type\n",
    "df_numeric = df_numeric.astype('float')\n",
    "\n",
    "#Print data types to confirm changes\n",
    "df_numeric.dtypes"
   ]
  },
  {
   "cell_type": "code",
   "execution_count": 61,
   "metadata": {},
   "outputs": [
    {
     "data": {
      "text/html": [
       "<div>\n",
       "<style scoped>\n",
       "    .dataframe tbody tr th:only-of-type {\n",
       "        vertical-align: middle;\n",
       "    }\n",
       "\n",
       "    .dataframe tbody tr th {\n",
       "        vertical-align: top;\n",
       "    }\n",
       "\n",
       "    .dataframe thead th {\n",
       "        text-align: right;\n",
       "    }\n",
       "</style>\n",
       "<table border=\"1\" class=\"dataframe\">\n",
       "  <thead>\n",
       "    <tr style=\"text-align: right;\">\n",
       "      <th></th>\n",
       "      <th>Milage</th>\n",
       "      <th>Year</th>\n",
       "      <th>Price</th>\n",
       "    </tr>\n",
       "  </thead>\n",
       "  <tbody>\n",
       "    <tr>\n",
       "      <th>0</th>\n",
       "      <td>82394.0</td>\n",
       "      <td>2017.0</td>\n",
       "      <td>10.668583</td>\n",
       "    </tr>\n",
       "    <tr>\n",
       "      <th>1</th>\n",
       "      <td>55000.0</td>\n",
       "      <td>2020.0</td>\n",
       "      <td>10.625174</td>\n",
       "    </tr>\n",
       "    <tr>\n",
       "      <th>2</th>\n",
       "      <td>60000.0</td>\n",
       "      <td>2020.0</td>\n",
       "      <td>11.108005</td>\n",
       "    </tr>\n",
       "    <tr>\n",
       "      <th>3</th>\n",
       "      <td>140000.0</td>\n",
       "      <td>2017.0</td>\n",
       "      <td>10.668583</td>\n",
       "    </tr>\n",
       "    <tr>\n",
       "      <th>4</th>\n",
       "      <td>79174.0</td>\n",
       "      <td>2020.0</td>\n",
       "      <td>10.625174</td>\n",
       "    </tr>\n",
       "  </tbody>\n",
       "</table>\n",
       "</div>"
      ],
      "text/plain": [
       "     Milage    Year      Price\n",
       "0   82394.0  2017.0  10.668583\n",
       "1   55000.0  2020.0  10.625174\n",
       "2   60000.0  2020.0  11.108005\n",
       "3  140000.0  2017.0  10.668583\n",
       "4   79174.0  2020.0  10.625174"
      ]
     },
     "execution_count": 61,
     "metadata": {},
     "output_type": "execute_result"
    }
   ],
   "source": [
    "#Check current status of numerical dataframe\n",
    "df_numeric.head()"
   ]
  },
  {
   "cell_type": "markdown",
   "metadata": {},
   "source": [
    "## K-Nearest Neighbours"
   ]
  },
  {
   "cell_type": "code",
   "execution_count": 65,
   "metadata": {},
   "outputs": [
    {
     "data": {
      "text/plain": [
       "{'Milage': 0.9758381021409221, 'Year': 0.4107711468914256}"
      ]
     },
     "execution_count": 65,
     "metadata": {},
     "output_type": "execute_result"
    }
   ],
   "source": [
    "from sklearn.neighbors import KNeighborsRegressor\n",
    "from sklearn.metrics import mean_squared_error\n",
    "\n",
    "#KNearestNeighbours function using default number of neigbhbours (5):\n",
    "def knn_train_test(df_cleaned,train_col,target_col):\n",
    "    knn = KNeighborsRegressor()\n",
    "    np.random.seed(1)\n",
    "    \n",
    "    #Randomize dataset \n",
    "    random_index = np.random.permutation(df_cleaned.index)\n",
    "    random_df = df_cleaned.reindex(random_index)\n",
    "    \n",
    "    train_set_end = int(len(random_df) / 2)\n",
    "\n",
    "    #Split dataset into train and test sets\n",
    "    train_df = random_df.iloc[0:train_set_end]\n",
    "    test_df = random_df.iloc[train_set_end:]\n",
    "    \n",
    "    #Train using training column and test column sent to function\n",
    "    knn.fit(train_df[[train_col]],train_df[target_col])\n",
    "    \n",
    "    #Predict using trained model\n",
    "    predictions = knn.predict(test_df[[train_col]])\n",
    "    \n",
    "    #Calculate RMSE\n",
    "    mse = mean_squared_error(test_df[target_col], predictions)\n",
    "    rmse = np.sqrt(mse)\n",
    "    \n",
    "    return rmse\n",
    "                   \n",
    "    \n",
    "rmse_values = {}\n",
    "train_cols = normalized.columns.drop('Price')\n",
    "\n",
    "# For each column in train_cols, train a model, return the RMSE value and add \n",
    "#to the dictionary \"rmse_results\".\n",
    "for col in train_cols:\n",
    "    rmse = knn_train_test(normalized, col, 'Price')\n",
    "    rmse_values[col] = rmse\n",
    "    \n",
    "rmse_values"
   ]
  },
  {
   "cell_type": "code",
   "execution_count": 66,
   "metadata": {},
   "outputs": [
    {
     "data": {
      "text/plain": [
       "Year      0.410771\n",
       "Milage    0.975838\n",
       "dtype: float64"
      ]
     },
     "execution_count": 66,
     "metadata": {},
     "output_type": "execute_result"
    }
   ],
   "source": [
    "rmse_values_series = pd.Series(rmse_values)\n",
    "rmse_values_series.sort_values()"
   ]
  },
  {
   "cell_type": "code",
   "execution_count": 68,
   "metadata": {},
   "outputs": [
    {
     "data": {
      "text/plain": [
       "{'Milage': {1: 1.225950623179965,\n",
       "  3: 1.0586460949100023,\n",
       "  5: 0.9758381021409221,\n",
       "  7: 0.9655873261831339,\n",
       "  9: 0.9425790569008289},\n",
       " 'Year': {1: 0.5237985246693654,\n",
       "  3: 0.4635689854878896,\n",
       "  5: 0.4107711468914256,\n",
       "  7: 0.414614609522236,\n",
       "  9: 0.4155614051725807}}"
      ]
     },
     "execution_count": 68,
     "metadata": {},
     "output_type": "execute_result"
    }
   ],
   "source": [
    "#KNearestNeighbours function using specified number of neigbhbours:\n",
    "def knn_train_test(df,train_col,target_col):\n",
    "    np.random.seed(1)\n",
    "    \n",
    "    #Randomize dataset \n",
    "    random_index = np.random.permutation(df.index)\n",
    "    random_df = df.reindex(random_index)\n",
    "    \n",
    "    train_set_end = int(len(random_df) / 2)\n",
    "\n",
    "    #Split dataset into train and test sets\n",
    "    train_df = random_df.iloc[0:train_set_end]\n",
    "    test_df = random_df.iloc[train_set_end:]\n",
    "    \n",
    "    k_values = [1,3,5,7,9]\n",
    "    k_rmses = {}\n",
    "    \n",
    "    #Calculate RMSE for each k\n",
    "    for k in k_values:\n",
    "        knn = KNeighborsRegressor(n_neighbors=k)\n",
    "        \n",
    "        #Train using training column and test column sent to function\n",
    "        knn.fit(train_df[[train_col]],train_df[target_col])\n",
    "        \n",
    "        #Predict using trained model\n",
    "        predictions = knn.predict(test_df[[train_col]])\n",
    "    \n",
    "        #Calculate RMSE for current k value\n",
    "        mse = mean_squared_error(test_df[target_col], predictions)\n",
    "        rmse = mse**(0.5)\n",
    "    \n",
    "        k_rmses[k] = rmse\n",
    "        \n",
    "    return k_rmses\n",
    "    \n",
    "k_rmse_values = {}\n",
    "train_cols = train_cols = normalized.columns.drop('Price')\n",
    "\n",
    "# For each column in train_cols, train a model, return the RMSE value and add \n",
    "#to the dictionary \"rmse_results\".\n",
    "for col in train_cols:\n",
    "    k_rmse = knn_train_test(normalized, col, 'Price')\n",
    "    k_rmse_values[col] = k_rmse\n",
    "\n",
    "k_rmse_values"
   ]
  },
  {
   "cell_type": "code",
   "execution_count": 69,
   "metadata": {},
   "outputs": [
    {
     "data": {
      "image/png": "[encoded data removed]",
      "text/plain": [
       "<Figure size 432x288 with 1 Axes>"
      ]
     },
     "metadata": {
      "needs_background": "light"
     },
     "output_type": "display_data"
    }
   ],
   "source": [
    "import matplotlib.pyplot as plt\n",
    "%matplotlib inline\n",
    "\n",
    "#List for legend\n",
    "leg = []\n",
    "\n",
    "#Plot rmse for each k value for models trained on each column\n",
    "for k,v in k_rmse_values.items():\n",
    "#     print(\"key: \",k)\n",
    "#     print(\"values: \",v)\n",
    "    x = list(v.keys())\n",
    "    y = list(v.values())\n",
    "    leg.append(k)\n",
    "    plt.plot(x,y)\n",
    "    plt.xlabel('k value')\n",
    "    plt.ylabel('RMSE')\n",
    "    \n",
    "plt.legend(leg, bbox_to_anchor = (1,1))    \n",
    "plt.show()\n"
   ]
  },
  {
   "cell_type": "markdown",
   "metadata": {},
   "source": [
    "#### Results of univariate model"
   ]
  },
  {
   "cell_type": "code",
   "execution_count": 70,
   "metadata": {},
   "outputs": [],
   "source": [
    "#Compute avg RMSE value for different k values\n",
    "feature_avg_rmse = {}\n",
    "for k,v in k_rmse_values.items():\n",
    "    avg_rmse = np.mean(list(v.values()))\n",
    "    feature_avg_rmse[k] = avg_rmse"
   ]
  },
  {
   "cell_type": "code",
   "execution_count": 71,
   "metadata": {},
   "outputs": [
    {
     "data": {
      "text/plain": [
       "Year      0.445663\n",
       "Milage    1.033720\n",
       "dtype: float64"
      ]
     },
     "execution_count": 71,
     "metadata": {},
     "output_type": "execute_result"
    }
   ],
   "source": [
    "#Display best features sorted avg RMSE values\n",
    "series_avg_rmse = pd.Series(feature_avg_rmse)\n",
    "series_avg_rmse.sort_values()"
   ]
  },
  {
   "cell_type": "markdown",
   "metadata": {},
   "source": [
    "#### Multivariate Model"
   ]
  },
  {
   "cell_type": "code",
   "execution_count": 73,
   "metadata": {},
   "outputs": [
    {
     "ename": "KeyError",
     "evalue": "\"None of [Index(['horsepower', 'width'], dtype='object')] are in the [columns]\"",
     "output_type": "error",
     "traceback": [
      "\u001b[1;31m---------------------------------------------------------------------------\u001b[0m",
      "\u001b[1;31mKeyError\u001b[0m                                  Traceback (most recent call last)",
      "\u001b[1;32m<ipython-input-73-b29aecf9e0d7>\u001b[0m in \u001b[0;36m<module>\u001b[1;34m\u001b[0m\n\u001b[0;32m     38\u001b[0m \u001b[1;33m\u001b[0m\u001b[0m\n\u001b[0;32m     39\u001b[0m \u001b[0mtwo_best_features\u001b[0m \u001b[1;33m=\u001b[0m \u001b[1;33m[\u001b[0m\u001b[1;34m'horsepower'\u001b[0m\u001b[1;33m,\u001b[0m \u001b[1;34m'width'\u001b[0m\u001b[1;33m]\u001b[0m\u001b[1;33m\u001b[0m\u001b[1;33m\u001b[0m\u001b[0m\n\u001b[1;32m---> 40\u001b[1;33m \u001b[0mrmse\u001b[0m \u001b[1;33m=\u001b[0m \u001b[0mknn_train_test_multi\u001b[0m\u001b[1;33m(\u001b[0m\u001b[0mnormalized\u001b[0m\u001b[1;33m,\u001b[0m \u001b[0mtwo_best_features\u001b[0m\u001b[1;33m,\u001b[0m \u001b[1;34m'Price'\u001b[0m\u001b[1;33m)\u001b[0m\u001b[1;33m\u001b[0m\u001b[1;33m\u001b[0m\u001b[0m\n\u001b[0m\u001b[0;32m     41\u001b[0m \u001b[0mk_rmse_values\u001b[0m\u001b[1;33m[\u001b[0m\u001b[1;34m\"two best features\"\u001b[0m\u001b[1;33m]\u001b[0m \u001b[1;33m=\u001b[0m \u001b[0mrmse\u001b[0m\u001b[1;33m\u001b[0m\u001b[1;33m\u001b[0m\u001b[0m\n\u001b[0;32m     42\u001b[0m \u001b[1;33m\u001b[0m\u001b[0m\n",
      "\u001b[1;32m<ipython-input-73-b29aecf9e0d7>\u001b[0m in \u001b[0;36mknn_train_test_multi\u001b[1;34m(df, train_cols, target_col)\u001b[0m\n\u001b[0;32m     22\u001b[0m \u001b[1;33m\u001b[0m\u001b[0m\n\u001b[0;32m     23\u001b[0m         \u001b[1;31m#Train using training column and test column sent to function\u001b[0m\u001b[1;33m\u001b[0m\u001b[1;33m\u001b[0m\u001b[1;33m\u001b[0m\u001b[0m\n\u001b[1;32m---> 24\u001b[1;33m         \u001b[0mknn\u001b[0m\u001b[1;33m.\u001b[0m\u001b[0mfit\u001b[0m\u001b[1;33m(\u001b[0m\u001b[0mtrain_df\u001b[0m\u001b[1;33m[\u001b[0m\u001b[0mtrain_cols\u001b[0m\u001b[1;33m]\u001b[0m\u001b[1;33m,\u001b[0m\u001b[0mtrain_df\u001b[0m\u001b[1;33m[\u001b[0m\u001b[0mtarget_col\u001b[0m\u001b[1;33m]\u001b[0m\u001b[1;33m)\u001b[0m\u001b[1;33m\u001b[0m\u001b[1;33m\u001b[0m\u001b[0m\n\u001b[0m\u001b[0;32m     25\u001b[0m \u001b[1;33m\u001b[0m\u001b[0m\n\u001b[0;32m     26\u001b[0m         \u001b[1;31m#Predict using trained model\u001b[0m\u001b[1;33m\u001b[0m\u001b[1;33m\u001b[0m\u001b[1;33m\u001b[0m\u001b[0m\n",
      "\u001b[1;32m~\\Anaconda3\\lib\\site-packages\\pandas\\core\\frame.py\u001b[0m in \u001b[0;36m__getitem__\u001b[1;34m(self, key)\u001b[0m\n\u001b[0;32m   2932\u001b[0m                 \u001b[0mkey\u001b[0m \u001b[1;33m=\u001b[0m \u001b[0mlist\u001b[0m\u001b[1;33m(\u001b[0m\u001b[0mkey\u001b[0m\u001b[1;33m)\u001b[0m\u001b[1;33m\u001b[0m\u001b[1;33m\u001b[0m\u001b[0m\n\u001b[0;32m   2933\u001b[0m             indexer = self.loc._convert_to_indexer(key, axis=1,\n\u001b[1;32m-> 2934\u001b[1;33m                                                    raise_missing=True)\n\u001b[0m\u001b[0;32m   2935\u001b[0m \u001b[1;33m\u001b[0m\u001b[0m\n\u001b[0;32m   2936\u001b[0m         \u001b[1;31m# take() does not accept boolean indexers\u001b[0m\u001b[1;33m\u001b[0m\u001b[1;33m\u001b[0m\u001b[1;33m\u001b[0m\u001b[0m\n",
      "\u001b[1;32m~\\Anaconda3\\lib\\site-packages\\pandas\\core\\indexing.py\u001b[0m in \u001b[0;36m_convert_to_indexer\u001b[1;34m(self, obj, axis, is_setter, raise_missing)\u001b[0m\n\u001b[0;32m   1352\u001b[0m                 kwargs = {'raise_missing': True if is_setter else\n\u001b[0;32m   1353\u001b[0m                           raise_missing}\n\u001b[1;32m-> 1354\u001b[1;33m                 \u001b[1;32mreturn\u001b[0m \u001b[0mself\u001b[0m\u001b[1;33m.\u001b[0m\u001b[0m_get_listlike_indexer\u001b[0m\u001b[1;33m(\u001b[0m\u001b[0mobj\u001b[0m\u001b[1;33m,\u001b[0m \u001b[0maxis\u001b[0m\u001b[1;33m,\u001b[0m \u001b[1;33m**\u001b[0m\u001b[0mkwargs\u001b[0m\u001b[1;33m)\u001b[0m\u001b[1;33m[\u001b[0m\u001b[1;36m1\u001b[0m\u001b[1;33m]\u001b[0m\u001b[1;33m\u001b[0m\u001b[1;33m\u001b[0m\u001b[0m\n\u001b[0m\u001b[0;32m   1355\u001b[0m         \u001b[1;32melse\u001b[0m\u001b[1;33m:\u001b[0m\u001b[1;33m\u001b[0m\u001b[1;33m\u001b[0m\u001b[0m\n\u001b[0;32m   1356\u001b[0m             \u001b[1;32mtry\u001b[0m\u001b[1;33m:\u001b[0m\u001b[1;33m\u001b[0m\u001b[1;33m\u001b[0m\u001b[0m\n",
      "\u001b[1;32m~\\Anaconda3\\lib\\site-packages\\pandas\\core\\indexing.py\u001b[0m in \u001b[0;36m_get_listlike_indexer\u001b[1;34m(self, key, axis, raise_missing)\u001b[0m\n\u001b[0;32m   1159\u001b[0m         self._validate_read_indexer(keyarr, indexer,\n\u001b[0;32m   1160\u001b[0m                                     \u001b[0mo\u001b[0m\u001b[1;33m.\u001b[0m\u001b[0m_get_axis_number\u001b[0m\u001b[1;33m(\u001b[0m\u001b[0maxis\u001b[0m\u001b[1;33m)\u001b[0m\u001b[1;33m,\u001b[0m\u001b[1;33m\u001b[0m\u001b[1;33m\u001b[0m\u001b[0m\n\u001b[1;32m-> 1161\u001b[1;33m                                     raise_missing=raise_missing)\n\u001b[0m\u001b[0;32m   1162\u001b[0m         \u001b[1;32mreturn\u001b[0m \u001b[0mkeyarr\u001b[0m\u001b[1;33m,\u001b[0m \u001b[0mindexer\u001b[0m\u001b[1;33m\u001b[0m\u001b[1;33m\u001b[0m\u001b[0m\n\u001b[0;32m   1163\u001b[0m \u001b[1;33m\u001b[0m\u001b[0m\n",
      "\u001b[1;32m~\\Anaconda3\\lib\\site-packages\\pandas\\core\\indexing.py\u001b[0m in \u001b[0;36m_validate_read_indexer\u001b[1;34m(self, key, indexer, axis, raise_missing)\u001b[0m\n\u001b[0;32m   1244\u001b[0m                 raise KeyError(\n\u001b[0;32m   1245\u001b[0m                     u\"None of [{key}] are in the [{axis}]\".format(\n\u001b[1;32m-> 1246\u001b[1;33m                         key=key, axis=self.obj._get_axis_name(axis)))\n\u001b[0m\u001b[0;32m   1247\u001b[0m \u001b[1;33m\u001b[0m\u001b[0m\n\u001b[0;32m   1248\u001b[0m             \u001b[1;31m# We (temporarily) allow for some missing keys with .loc, except in\u001b[0m\u001b[1;33m\u001b[0m\u001b[1;33m\u001b[0m\u001b[1;33m\u001b[0m\u001b[0m\n",
      "\u001b[1;31mKeyError\u001b[0m: \"None of [Index(['horsepower', 'width'], dtype='object')] are in the [columns]\""
     ]
    }
   ],
   "source": [
    "#Multivariate KNearestNeighbours function\n",
    "\n",
    "def knn_train_test_multi(df,train_cols,target_col):\n",
    "    np.random.seed(1)\n",
    "    \n",
    "    #Randomize dataset \n",
    "    random_index = np.random.permutation(df.index)\n",
    "    random_df = df.reindex(random_index)\n",
    "    \n",
    "    train_set_end = int(len(random_df) / 2)\n",
    "\n",
    "    #Split dataset into train and test sets\n",
    "    train_df = random_df.iloc[0:train_set_end]\n",
    "    test_df = random_df.iloc[train_set_end:]\n",
    "    \n",
    "    k_value = [5]\n",
    "    k_rmses = {}\n",
    "    \n",
    "    #Calculate RMSE for each k\n",
    "    for k in k_value:\n",
    "        knn = KNeighborsRegressor(n_neighbors=k)\n",
    "        \n",
    "        #Train using training column and test column sent to function\n",
    "        knn.fit(train_df[train_cols],train_df[target_col])\n",
    "        \n",
    "        #Predict using trained model\n",
    "        predictions = knn.predict(test_df[train_cols])\n",
    "    \n",
    "        #Calculate RMSE for current k value\n",
    "        mse = mean_squared_error(test_df[target_col], predictions)\n",
    "        rmse = mse**(0.5)\n",
    "    \n",
    "        k_rmses[str(k) + \" Neighbours\"] = rmse  \n",
    "    return k_rmses\n",
    "    \n",
    "#Disctionary of RMSE values for each set of features and each number of neighbours\n",
    "k_rmse_values = {}\n",
    "\n",
    "two_best_features = ['Milage', 'Year']\n",
    "rmse = knn_train_test_multi(normalized, two_best_features, 'Price')\n",
    "k_rmse_values[\"two best features\"] = rmse\n",
    "\n",
    "three_best_features = ['Milage', 'Year', 'Model']\n",
    "rmse = knn_train_test_multi(normalized, three_best_features, 'Price')\n",
    "k_rmse_values[\"three best features\"] = rmse\n",
    "\n",
    "four_best_features = ['Milage', 'Year', 'Model', 'Car Type']\n",
    "rmse = knn_train_test_multi(normalized, four_best_features, 'Price')\n",
    "k_rmse_values[\"four best features\"] = rmse\n",
    "\n",
    "five_best_features = ['horsepower', 'width', 'curb-weight', \n",
    "                      'highway-mpg', 'length']\n",
    "rmse = knn_train_test_multi(normalized, five_best_features, 'Price')\n",
    "k_rmse_values[\"five best features\"] = rmse\n",
    "\n",
    "six_best_features = ['horsepower', 'width', 'curb-weight', \n",
    "                     'highway-mpg', 'length', 'city-mpg']\n",
    "rmse = knn_train_test_multi(normalized, six_best_features, 'Price')\n",
    "k_rmse_values[\"six best features\"] = rmse\n",
    "\n",
    "k_rmse_values"
   ]
  },
  {
   "cell_type": "code",
   "execution_count": null,
   "metadata": {},
   "outputs": [],
   "source": []
  }
 ],
 "metadata": {
  "kernelspec": {
   "display_name": "Python 3",
   "language": "python",
   "name": "python3"
  },
  "language_info": {
   "codemirror_mode": {
    "name": "ipython",
    "version": 3
   },
   "file_extension": ".py",
   "mimetype": "text/x-python",
   "name": "python",
   "nbconvert_exporter": "python",
   "pygments_lexer": "ipython3",
   "version": "3.7.3"
  }
 },
 "nbformat": 4,
 "nbformat_minor": 2
}
